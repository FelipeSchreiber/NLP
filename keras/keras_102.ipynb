{
 "cells": [
  {
   "cell_type": "markdown",
   "metadata": {
    "colab_type": "text",
    "id": "sNc3NouWYrN7"
   },
   "source": [
    "Imports"
   ]
  },
  {
   "cell_type": "code",
   "execution_count": 1,
   "metadata": {
    "colab": {},
    "colab_type": "code",
    "id": "4bQCahYjYdUB"
   },
   "outputs": [
    {
     "name": "stderr",
     "output_type": "stream",
     "text": [
      "2024-08-19 18:59:34.080254: I external/local_tsl/tsl/cuda/cudart_stub.cc:31] Could not find cuda drivers on your machine, GPU will not be used.\n",
      "2024-08-19 18:59:34.130835: E external/local_xla/xla/stream_executor/cuda/cuda_dnn.cc:9261] Unable to register cuDNN factory: Attempting to register factory for plugin cuDNN when one has already been registered\n",
      "2024-08-19 18:59:34.130872: E external/local_xla/xla/stream_executor/cuda/cuda_fft.cc:607] Unable to register cuFFT factory: Attempting to register factory for plugin cuFFT when one has already been registered\n",
      "2024-08-19 18:59:34.132329: E external/local_xla/xla/stream_executor/cuda/cuda_blas.cc:1515] Unable to register cuBLAS factory: Attempting to register factory for plugin cuBLAS when one has already been registered\n",
      "2024-08-19 18:59:34.139775: I external/local_tsl/tsl/cuda/cudart_stub.cc:31] Could not find cuda drivers on your machine, GPU will not be used.\n",
      "2024-08-19 18:59:34.140230: I tensorflow/core/platform/cpu_feature_guard.cc:182] This TensorFlow binary is optimized to use available CPU instructions in performance-critical operations.\n",
      "To enable the following instructions: AVX2 FMA, in other operations, rebuild TensorFlow with the appropriate compiler flags.\n",
      "2024-08-19 18:59:35.530873: W tensorflow/compiler/tf2tensorrt/utils/py_utils.cc:38] TF-TRT Warning: Could not find TensorRT\n"
     ]
    }
   ],
   "source": [
    "import tensorflow\n",
    "from tensorflow import keras\n",
    "import matplotlib.pyplot as plt\n",
    "import numpy as np\n",
    "from tensorflow.keras.models import load_model"
   ]
  },
  {
   "cell_type": "markdown",
   "metadata": {
    "colab_type": "text",
    "id": "f8uuzUjVYvkf"
   },
   "source": [
    "Carregando o dataset"
   ]
  },
  {
   "cell_type": "code",
   "execution_count": 2,
   "metadata": {
    "colab": {},
    "colab_type": "code",
    "id": "QoIys3wMYirH"
   },
   "outputs": [],
   "source": [
    "dataset = keras.datasets.fashion_mnist\n",
    "((imagens_treino, identificacoes_treino), (imagens_teste, identificacoes_teste)) = dataset.load_data()\n"
   ]
  },
  {
   "cell_type": "markdown",
   "metadata": {
    "colab_type": "text",
    "id": "oFr0526ZY5E_"
   },
   "source": [
    "Exploração dos dados"
   ]
  },
  {
   "cell_type": "code",
   "execution_count": 3,
   "metadata": {
    "colab": {
     "base_uri": "https://localhost:8080/",
     "height": 35
    },
    "colab_type": "code",
    "executionInfo": {
     "elapsed": 1479,
     "status": "ok",
     "timestamp": 1545137955774,
     "user": {
      "displayName": "Cássia Sampaio",
      "photoUrl": "https://lh5.googleusercontent.com/-WZZI20Ykt7M/AAAAAAAAAAI/AAAAAAAAAlI/NPtGozqQ-38/s64/photo.jpg",
      "userId": "11135730660253677021"
     },
     "user_tz": 120
    },
    "id": "fPIT36hpYl5A",
    "outputId": "812c2fcc-0c28-431b-91b8-1e64a05f31e8"
   },
   "outputs": [
    {
     "data": {
      "text/plain": [
       "9"
      ]
     },
     "execution_count": 3,
     "metadata": {},
     "output_type": "execute_result"
    }
   ],
   "source": [
    "len(imagens_treino)\n",
    "imagens_treino.shape\n",
    "imagens_teste.shape\n",
    "len(identificacoes_teste)\n",
    "identificacoes_treino.min()\n",
    "identificacoes_treino.max()"
   ]
  },
  {
   "cell_type": "markdown",
   "metadata": {
    "colab_type": "text",
    "id": "yTWqT9DIY-iB"
   },
   "source": [
    "Exibição dos dados"
   ]
  },
  {
   "cell_type": "code",
   "execution_count": 4,
   "metadata": {
    "colab": {
     "base_uri": "https://localhost:8080/",
     "height": 365
    },
    "colab_type": "code",
    "executionInfo": {
     "elapsed": 1699,
     "status": "ok",
     "timestamp": 1545137956003,
     "user": {
      "displayName": "Cássia Sampaio",
      "photoUrl": "https://lh5.googleusercontent.com/-WZZI20Ykt7M/AAAAAAAAAAI/AAAAAAAAAlI/NPtGozqQ-38/s64/photo.jpg",
      "userId": "11135730660253677021"
     },
     "user_tz": 120
    },
    "id": "bGESm49JVahh",
    "outputId": "25be141d-aa74-45fc-da00-f38b9a8f3039"
   },
   "outputs": [
    {
     "data": {
      "text/plain": [
       "<matplotlib.colorbar.Colorbar at 0x7c7d97564710>"
      ]
     },
     "execution_count": 4,
     "metadata": {},
     "output_type": "execute_result"
    },
    {
     "data": {
      "image/png": "[encoded data removed]",
      "text/plain": [
       "<Figure size 640x480 with 2 Axes>"
      ]
     },
     "metadata": {},
     "output_type": "display_data"
    }
   ],
   "source": [
    "total_de_classificacoes = 10\n",
    "nomes_de_classificacoes = ['Camiseta', 'Calça', 'Pullover', \n",
    "                           'Vestido', 'Casaco', 'Sandália', 'Camisa',\n",
    "                           'Tênis', 'Bolsa', 'Bota']\n",
    "\n",
    "plt.imshow(imagens_treino[0])\n",
    "plt.colorbar()"
   ]
  },
  {
   "cell_type": "markdown",
   "metadata": {
    "colab_type": "text",
    "id": "uU6ZySpIcoc5"
   },
   "source": [
    "Normalizando as imagens"
   ]
  },
  {
   "cell_type": "code",
   "execution_count": 5,
   "metadata": {
    "colab": {},
    "colab_type": "code",
    "id": "Ral_hdl9ulGG"
   },
   "outputs": [],
   "source": [
    "imagens_treino = imagens_treino/float(255)"
   ]
  },
  {
   "cell_type": "markdown",
   "metadata": {
    "colab_type": "text",
    "id": "2WABnvOJdCNl"
   },
   "source": [
    "Criando, compilando, treinando e normalizando o modelo"
   ]
  },
  {
   "cell_type": "code",
   "execution_count": 6,
   "metadata": {
    "colab": {
     "base_uri": "https://localhost:8080/",
     "height": 228
    },
    "colab_type": "code",
    "executionInfo": {
     "elapsed": 11713,
     "status": "ok",
     "timestamp": 1545143728581,
     "user": {
      "displayName": "Cássia Sampaio",
      "photoUrl": "https://lh5.googleusercontent.com/-WZZI20Ykt7M/AAAAAAAAAAI/AAAAAAAAAlI/NPtGozqQ-38/s64/photo.jpg",
      "userId": "11135730660253677021"
     },
     "user_tz": 120
    },
    "id": "uFedwlfFc0ii",
    "outputId": "b2115202-893b-4830-d587-5b6608639925"
   },
   "outputs": [
    {
     "name": "stderr",
     "output_type": "stream",
     "text": [
      "WARNING:absl:`lr` is deprecated in Keras optimizer, please use `learning_rate` or use the legacy optimizer, e.g.,tf.keras.optimizers.legacy.Adam.\n"
     ]
    },
    {
     "name": "stdout",
     "output_type": "stream",
     "text": [
      "Epoch 1/5\n"
     ]
    },
    {
     "name": "stderr",
     "output_type": "stream",
     "text": [
      "2024-08-19 18:59:39.019845: W external/local_tsl/tsl/framework/cpu_allocator_impl.cc:83] Allocation of 150528000 exceeds 10% of free system memory.\n"
     ]
    },
    {
     "name": "stdout",
     "output_type": "stream",
     "text": [
      "100/100 [==============================] - 2s 15ms/step - loss: 0.7154 - accuracy: 0.7528 - val_loss: 0.4936 - val_accuracy: 0.8274\n",
      "Epoch 2/5\n",
      " 13/100 [==>...........................] - ETA: 1s - loss: 0.4869 - accuracy: 0.8345"
     ]
    },
    {
     "name": "stderr",
     "output_type": "stream",
     "text": [
      "/home/felipe/anaconda3/lib/python3.11/site-packages/keras/src/engine/training.py:3103: UserWarning: You are saving your model as an HDF5 file via `model.save()`. This file format is considered legacy. We recommend using instead the native Keras format, e.g. `model.save('my_model.keras')`.\n",
      "  saving_api.save_model(\n"
     ]
    },
    {
     "name": "stdout",
     "output_type": "stream",
     "text": [
      "100/100 [==============================] - 1s 14ms/step - loss: 0.4735 - accuracy: 0.8363 - val_loss: 0.4383 - val_accuracy: 0.8476\n",
      "Epoch 3/5\n",
      "100/100 [==============================] - 1s 12ms/step - loss: 0.4223 - accuracy: 0.8534 - val_loss: 0.3926 - val_accuracy: 0.8622\n",
      "Epoch 4/5\n",
      "100/100 [==============================] - 1s 12ms/step - loss: 0.3908 - accuracy: 0.8617 - val_loss: 0.3818 - val_accuracy: 0.8673\n",
      "Epoch 5/5\n",
      "100/100 [==============================] - 1s 12ms/step - loss: 0.3701 - accuracy: 0.8686 - val_loss: 0.3636 - val_accuracy: 0.8710\n"
     ]
    }
   ],
   "source": [
    "modelo = keras.Sequential([ \n",
    "    keras.layers.Flatten(input_shape=(28, 28)),\n",
    "    keras.layers.Dense(256, activation=tensorflow.nn.relu),\n",
    "    keras.layers.Dropout(0.2),\n",
    "    keras.layers.Dense(10, activation=tensorflow.nn.softmax)\n",
    "])\n",
    "\n",
    "adam = keras.optimizers.Adam(lr=0.002)\n",
    "\n",
    "'''lr\n",
    "learning rate\n",
    "taxa de aprendizado'''\n",
    "\n",
    "parando_cedo = [keras.callbacks.EarlyStopping(monitor='val_loss'),\n",
    "                keras.callbacks.ModelCheckpoint(filepath='melhor_modelo.hdf5',\n",
    "                                               monitor='val_loss', save_best_only=True)]\n",
    "\n",
    "modelo.compile(optimizer=adam, \n",
    "               loss='sparse_categorical_crossentropy',\n",
    "               metrics=['accuracy'])\n",
    "\n",
    "historico = modelo.fit(imagens_treino, identificacoes_treino, \n",
    "                       batch_size = 480,\n",
    "                       epochs=5, validation_split=0.2,\n",
    "                       callbacks=parando_cedo)"
   ]
  },
  {
   "cell_type": "markdown",
   "metadata": {
    "colab_type": "text",
    "id": "sd2k5eXndvza"
   },
   "source": []
  },
  {
   "cell_type": "markdown",
   "metadata": {
    "colab_type": "text",
    "id": "weeyzt2QuDXS"
   },
   "source": [
    "Sumário do modelo"
   ]
  },
  {
   "cell_type": "code",
   "execution_count": 7,
   "metadata": {
    "colab": {
     "base_uri": "https://localhost:8080/",
     "height": 277
    },
    "colab_type": "code",
    "executionInfo": {
     "elapsed": 51783,
     "status": "ok",
     "timestamp": 1545138006111,
     "user": {
      "displayName": "Cássia Sampaio",
      "photoUrl": "https://lh5.googleusercontent.com/-WZZI20Ykt7M/AAAAAAAAAAI/AAAAAAAAAlI/NPtGozqQ-38/s64/photo.jpg",
      "userId": "11135730660253677021"
     },
     "user_tz": 120
    },
    "id": "QLG_CH6Lr2vp",
    "outputId": "cb5ca991-99c3-41e8-d71a-81dedae12cb4"
   },
   "outputs": [
    {
     "name": "stdout",
     "output_type": "stream",
     "text": [
      "Model: \"sequential\"\n",
      "_________________________________________________________________\n",
      " Layer (type)                Output Shape              Param #   \n",
      "=================================================================\n",
      " flatten (Flatten)           (None, 784)               0         \n",
      "                                                                 \n",
      " dense (Dense)               (None, 256)               200960    \n",
      "                                                                 \n",
      " dropout (Dropout)           (None, 256)               0         \n",
      "                                                                 \n",
      " dense_1 (Dense)             (None, 10)                2570      \n",
      "                                                                 \n",
      "=================================================================\n",
      "Total params: 203530 (795.04 KB)\n",
      "Trainable params: 203530 (795.04 KB)\n",
      "Non-trainable params: 0 (0.00 Byte)\n",
      "_________________________________________________________________\n"
     ]
    }
   ],
   "source": [
    "sumario_do_modelo = modelo.summary()"
   ]
  },
  {
   "cell_type": "markdown",
   "metadata": {
    "colab_type": "text",
    "id": "GVuSQg42udch"
   },
   "source": [
    "Pesos da primeira camada Dense"
   ]
  },
  {
   "cell_type": "code",
   "execution_count": 8,
   "metadata": {
    "colab": {
     "base_uri": "https://localhost:8080/",
     "height": 243
    },
    "colab_type": "code",
    "executionInfo": {
     "elapsed": 51780,
     "status": "ok",
     "timestamp": 1545138006114,
     "user": {
      "displayName": "Cássia Sampaio",
      "photoUrl": "https://lh5.googleusercontent.com/-WZZI20Ykt7M/AAAAAAAAAAI/AAAAAAAAAlI/NPtGozqQ-38/s64/photo.jpg",
      "userId": "11135730660253677021"
     },
     "user_tz": 120
    },
    "id": "YRzqJi5gr-ug",
    "outputId": "acb8a25a-268c-4a93-da4c-697b0e6c071b"
   },
   "outputs": [
    {
     "data": {
      "text/plain": [
       "array([[ 0.0049877 ,  0.05669709,  0.0334519 , ...,  0.05790536,\n",
       "        -0.04541017,  0.07588255],\n",
       "       [ 0.04856607,  0.00540907, -0.05864112, ..., -0.07092723,\n",
       "        -0.0141159 ,  0.00136819],\n",
       "       [ 0.11936436,  0.04091969, -0.01162669, ..., -0.06991873,\n",
       "         0.05740543, -0.05208424],\n",
       "       ...,\n",
       "       [ 0.12941787,  0.04908409, -0.12117975, ..., -0.00822536,\n",
       "        -0.05923145,  0.04255413],\n",
       "       [ 0.07130618, -0.05111855, -0.05287157, ...,  0.03694182,\n",
       "        -0.0383789 ,  0.05764491],\n",
       "       [ 0.09303501, -0.05803916, -0.02446799, ...,  0.05586239,\n",
       "         0.04066004,  0.03406096]], dtype=float32)"
      ]
     },
     "execution_count": 8,
     "metadata": {},
     "output_type": "execute_result"
    }
   ],
   "source": [
    "pesos_camada_dense = modelo.layers[1].get_weights()[0]\n",
    "pesos_camada_dense"
   ]
  },
  {
   "cell_type": "code",
   "execution_count": 10,
   "metadata": {
    "colab": {
     "base_uri": "https://localhost:8080/",
     "height": 235
    },
    "colab_type": "code",
    "executionInfo": {
     "elapsed": 52970,
     "status": "error",
     "timestamp": 1545138007320,
     "user": {
      "displayName": "Cássia Sampaio",
      "photoUrl": "https://lh5.googleusercontent.com/-WZZI20Ykt7M/AAAAAAAAAAI/AAAAAAAAAlI/NPtGozqQ-38/s64/photo.jpg",
      "userId": "11135730660253677021"
     },
     "user_tz": 120
    },
    "id": "k5vzzzzF-pdh",
    "outputId": "8e285466-cda4-4e6b-c4a2-b2ba77f882d7"
   },
   "outputs": [
    {
     "data": {
      "text/plain": [
       "[array([[0.18796186, 0.47276872, 0.96481514, ..., 0.17197207, 0.43508792,\n",
       "         0.2526227 ],\n",
       "        [0.08331922, 0.76441014, 0.34919065, ..., 0.8413565 , 0.10000432,\n",
       "         0.46512377],\n",
       "        [0.3694803 , 0.01330331, 0.39789528, ..., 0.50127935, 0.74072325,\n",
       "         0.92088586],\n",
       "        ...,\n",
       "        [0.4953667 , 0.3497449 , 0.86020774, ..., 0.48201063, 0.5020132 ,\n",
       "         0.70776176],\n",
       "        [0.98644406, 0.6843694 , 0.07982083, ..., 0.20545402, 0.19029431,\n",
       "         0.74685967],\n",
       "        [0.52529114, 0.4543794 , 0.63979065, ..., 0.0084465 , 0.5671775 ,\n",
       "         0.94118387]], dtype=float32),\n",
       " array([0., 0., 0., 0., 0., 0., 0., 0., 0., 0., 0., 0., 0., 0., 0., 0., 0.,\n",
       "        0., 0., 0., 0., 0., 0., 0., 0., 0., 0., 0., 0., 0., 0., 0., 0., 0.,\n",
       "        0., 0., 0., 0., 0., 0., 0., 0., 0., 0., 0., 0., 0., 0., 0., 0., 0.,\n",
       "        0., 0., 0., 0., 0., 0., 0., 0., 0., 0., 0., 0., 0., 0., 0., 0., 0.,\n",
       "        0., 0., 0., 0., 0., 0., 0., 0., 0., 0., 0., 0., 0., 0., 0., 0., 0.,\n",
       "        0., 0., 0., 0., 0., 0., 0., 0., 0., 0., 0., 0., 0., 0., 0., 0., 0.,\n",
       "        0., 0., 0., 0., 0., 0., 0., 0., 0., 0., 0., 0., 0., 0., 0., 0., 0.,\n",
       "        0., 0., 0., 0., 0., 0., 0., 0., 0., 0., 0., 0., 0., 0., 0., 0., 0.,\n",
       "        0., 0., 0., 0., 0., 0., 0., 0., 0., 0., 0., 0., 0., 0., 0., 0., 0.,\n",
       "        0., 0., 0., 0., 0., 0., 0., 0., 0., 0., 0., 0., 0., 0., 0., 0., 0.,\n",
       "        0., 0., 0., 0., 0., 0., 0., 0., 0., 0., 0., 0., 0., 0., 0., 0., 0.,\n",
       "        0., 0., 0., 0., 0., 0., 0., 0., 0., 0., 0., 0., 0., 0., 0., 0., 0.,\n",
       "        0., 0., 0., 0., 0., 0., 0., 0., 0., 0., 0., 0., 0., 0., 0., 0., 0.,\n",
       "        0., 0., 0., 0., 0., 0., 0., 0., 0., 0., 0., 0., 0., 0., 0., 0., 0.,\n",
       "        0., 0., 0., 0., 0., 0., 0., 0., 0., 0., 0., 0., 0., 0., 0., 0., 0.,\n",
       "        0.], dtype=float32)]"
      ]
     },
     "execution_count": 10,
     "metadata": {},
     "output_type": "execute_result"
    }
   ],
   "source": [
    "pesos_camada_dense.shape\n",
    "pesos_camada_dense_zerados = np.zeros((784, 256))\n",
    "\n",
    "pesos_camada_dense_aleatorios = np.random.rand(784, 256)\n",
    "\n",
    "'''\n",
    "modelo.layers[1].set_weights(\n",
    "    [pesos_camada_dense_zerados, vieses_camada_dense]\n",
    ")\n",
    "'''\n",
    "\n",
    "vieses_camada_dense = np.zeros(256)\n",
    "\n",
    "modelo.layers[1].set_weights(\n",
    "    [pesos_camada_dense_aleatorios, vieses_camada_dense]\n",
    ")\n",
    "\n",
    "modelo.layers[1].get_weights()\n"
   ]
  },
  {
   "cell_type": "code",
   "execution_count": 11,
   "metadata": {
    "colab": {},
    "colab_type": "code",
    "id": "0nJSiAyI_-3a"
   },
   "outputs": [
    {
     "name": "stdout",
     "output_type": "stream",
     "text": [
      "Epoch 1/5\n"
     ]
    },
    {
     "name": "stderr",
     "output_type": "stream",
     "text": [
      "2024-08-19 19:01:08.484006: W external/local_tsl/tsl/framework/cpu_allocator_impl.cc:83] Allocation of 150528000 exceeds 10% of free system memory.\n"
     ]
    },
    {
     "name": "stdout",
     "output_type": "stream",
     "text": [
      "1500/1500 [==============================] - 8s 5ms/step - loss: 63.1793 - accuracy: 0.4171 - val_loss: 7.3716 - val_accuracy: 0.7563\n",
      "Epoch 2/5\n",
      "1500/1500 [==============================] - 7s 4ms/step - loss: 16.7891 - accuracy: 0.6273 - val_loss: 7.7392 - val_accuracy: 0.6809\n",
      "Epoch 3/5\n",
      "1500/1500 [==============================] - 8s 5ms/step - loss: 6.9277 - accuracy: 0.6813 - val_loss: 3.8258 - val_accuracy: 0.7224\n",
      "Epoch 4/5\n",
      "1500/1500 [==============================] - 8s 5ms/step - loss: 3.4600 - accuracy: 0.7036 - val_loss: 3.5236 - val_accuracy: 0.6960\n",
      "Epoch 5/5\n",
      "1500/1500 [==============================] - 7s 5ms/step - loss: 1.9307 - accuracy: 0.7385 - val_loss: 1.3306 - val_accuracy: 0.7543\n"
     ]
    }
   ],
   "source": [
    "modelo.compile(optimizer='adam', \n",
    "               loss='sparse_categorical_crossentropy',\n",
    "               metrics=['accuracy'])\n",
    "\n",
    "historico = modelo.fit(imagens_treino, identificacoes_treino, epochs=5, validation_split=0.2)"
   ]
  },
  {
   "cell_type": "code",
   "execution_count": 12,
   "metadata": {
    "colab": {},
    "colab_type": "code",
    "id": "TqiDVI-aAi9k"
   },
   "outputs": [
    {
     "data": {
      "text/plain": [
       "<matplotlib.legend.Legend at 0x7c7d76156550>"
      ]
     },
     "execution_count": 12,
     "metadata": {},
     "output_type": "execute_result"
    },
    {
     "data": {
      "image/png": "[encoded data removed]",
      "text/plain": [
       "<Figure size 640x480 with 1 Axes>"
      ]
     },
     "metadata": {},
     "output_type": "display_data"
    }
   ],
   "source": [
    "plt.plot(historico.history['accuracy'])\n",
    "plt.plot(historico.history['val_accuracy'])\n",
    "plt.title('Acurácia por épocas')\n",
    "plt.xlabel('épocas')\n",
    "plt.ylabel('acurácia')\n",
    "plt.legend(['treino', 'validação'])\n"
   ]
  },
  {
   "cell_type": "code",
   "execution_count": 14,
   "metadata": {
    "colab": {
     "base_uri": "https://localhost:8080/",
     "height": 815
    },
    "colab_type": "code",
    "executionInfo": {
     "elapsed": 597,
     "status": "ok",
     "timestamp": 1545144456753,
     "user": {
      "displayName": "Cássia Sampaio",
      "photoUrl": "https://lh5.googleusercontent.com/-WZZI20Ykt7M/AAAAAAAAAAI/AAAAAAAAAlI/NPtGozqQ-38/s64/photo.jpg",
      "userId": "11135730660253677021"
     },
     "user_tz": 120
    },
    "id": "sELsC7XkFCei",
    "outputId": "1de3e550-e52b-4e0c-fff5-cb1981361c3c"
   },
   "outputs": [
    {
     "data": {
      "text/plain": [
       "{'name': 'sequential',\n",
       " 'layers': [{'module': 'keras.layers',\n",
       "   'class_name': 'InputLayer',\n",
       "   'config': {'batch_input_shape': (None, 28, 28),\n",
       "    'dtype': 'float32',\n",
       "    'sparse': False,\n",
       "    'ragged': False,\n",
       "    'name': 'flatten_input'},\n",
       "   'registered_name': None},\n",
       "  {'module': 'keras.layers',\n",
       "   'class_name': 'Flatten',\n",
       "   'config': {'name': 'flatten',\n",
       "    'trainable': True,\n",
       "    'dtype': 'float32',\n",
       "    'batch_input_shape': (None, 28, 28),\n",
       "    'data_format': 'channels_last'},\n",
       "   'registered_name': None,\n",
       "   'build_config': {'input_shape': (None, 28, 28)}},\n",
       "  {'module': 'keras.layers',\n",
       "   'class_name': 'Dense',\n",
       "   'config': {'name': 'dense',\n",
       "    'trainable': True,\n",
       "    'dtype': 'float32',\n",
       "    'units': 256,\n",
       "    'activation': 'relu',\n",
       "    'use_bias': True,\n",
       "    'kernel_initializer': {'module': 'keras.initializers',\n",
       "     'class_name': 'GlorotUniform',\n",
       "     'config': {'seed': None},\n",
       "     'registered_name': None},\n",
       "    'bias_initializer': {'module': 'keras.initializers',\n",
       "     'class_name': 'Zeros',\n",
       "     'config': {},\n",
       "     'registered_name': None},\n",
       "    'kernel_regularizer': None,\n",
       "    'bias_regularizer': None,\n",
       "    'activity_regularizer': None,\n",
       "    'kernel_constraint': None,\n",
       "    'bias_constraint': None},\n",
       "   'registered_name': None,\n",
       "   'build_config': {'input_shape': (None, 784)}},\n",
       "  {'module': 'keras.layers',\n",
       "   'class_name': 'Dropout',\n",
       "   'config': {'name': 'dropout',\n",
       "    'trainable': True,\n",
       "    'dtype': 'float32',\n",
       "    'rate': 0.2,\n",
       "    'noise_shape': None,\n",
       "    'seed': None},\n",
       "   'registered_name': None,\n",
       "   'build_config': {'input_shape': (None, 256)}},\n",
       "  {'module': 'keras.layers',\n",
       "   'class_name': 'Dense',\n",
       "   'config': {'name': 'dense_1',\n",
       "    'trainable': True,\n",
       "    'dtype': 'float32',\n",
       "    'units': 10,\n",
       "    'activation': 'softmax',\n",
       "    'use_bias': True,\n",
       "    'kernel_initializer': {'module': 'keras.initializers',\n",
       "     'class_name': 'GlorotUniform',\n",
       "     'config': {'seed': None},\n",
       "     'registered_name': None},\n",
       "    'bias_initializer': {'module': 'keras.initializers',\n",
       "     'class_name': 'Zeros',\n",
       "     'config': {},\n",
       "     'registered_name': None},\n",
       "    'kernel_regularizer': None,\n",
       "    'bias_regularizer': None,\n",
       "    'activity_regularizer': None,\n",
       "    'kernel_constraint': None,\n",
       "    'bias_constraint': None},\n",
       "   'registered_name': None,\n",
       "   'build_config': {'input_shape': (None, 256)}}]}"
      ]
     },
     "execution_count": 14,
     "metadata": {},
     "output_type": "execute_result"
    }
   ],
   "source": [
    "modelo.get_config()"
   ]
  },
  {
   "cell_type": "code",
   "execution_count": 15,
   "metadata": {
    "colab": {},
    "colab_type": "code",
    "id": "4S8FoWQ1Ar_x"
   },
   "outputs": [
    {
     "data": {
      "text/plain": [
       "<matplotlib.legend.Legend at 0x7c7d74d36110>"
      ]
     },
     "execution_count": 15,
     "metadata": {},
     "output_type": "execute_result"
    },
    {
     "data": {
      "image/png": "[encoded data removed]",
      "text/plain": [
       "<Figure size 640x480 with 1 Axes>"
      ]
     },
     "metadata": {},
     "output_type": "display_data"
    }
   ],
   "source": [
    "plt.plot(historico.history['loss'])\n",
    "plt.plot(historico.history['val_loss'])\n",
    "plt.title('Perda por épocas')\n",
    "plt.xlabel('épocas')\n",
    "plt.ylabel('perda')\n",
    "plt.legend(['treino', 'validação'])"
   ]
  },
  {
   "cell_type": "code",
   "execution_count": 16,
   "metadata": {
    "colab": {},
    "colab_type": "code",
    "id": "Vuve5QcuF4eE"
   },
   "outputs": [
    {
     "data": {
      "text/plain": [
       "(256,)"
      ]
     },
     "execution_count": 16,
     "metadata": {},
     "output_type": "execute_result"
    }
   ],
   "source": [
    "vieses_camada_dense = modelo.layers[1].get_weights()[1]\n",
    "vieses_camada_dense.shape"
   ]
  },
  {
   "cell_type": "code",
   "execution_count": 17,
   "metadata": {
    "colab": {},
    "colab_type": "code",
    "id": "5lEZYFfHHfrx"
   },
   "outputs": [],
   "source": [
    "vieses_camada_dense_zerados = np.zeros((256,))\n",
    "modelo.layers[1].set_weights(\n",
    "    [pesos_camada_dense_aleatorios, vieses_camada_dense_zerados]\n",
    ")"
   ]
  },
  {
   "cell_type": "markdown",
   "metadata": {
    "colab_type": "text",
    "id": "4-RqzS88dgk_"
   },
   "source": [
    "Salvando e carregando o modelo treinado"
   ]
  },
  {
   "cell_type": "code",
   "execution_count": 18,
   "metadata": {
    "colab": {},
    "colab_type": "code",
    "id": "SVjmU41IELzX"
   },
   "outputs": [],
   "source": [
    "modelo.save('modelo.h5')\n",
    "modelo_salvo = load_model('modelo.h5')"
   ]
  },
  {
   "cell_type": "markdown",
   "metadata": {
    "colab_type": "text",
    "id": "SVxHO3opdnMb"
   },
   "source": [
    "Visualizando as acurácias de treino e validação por época"
   ]
  },
  {
   "cell_type": "code",
   "execution_count": 19,
   "metadata": {
    "colab": {},
    "colab_type": "code",
    "id": "pNc0JsWZY1Ie"
   },
   "outputs": [
    {
     "data": {
      "text/plain": [
       "<matplotlib.legend.Legend at 0x7c7d74347d90>"
      ]
     },
     "execution_count": 19,
     "metadata": {},
     "output_type": "execute_result"
    },
    {
     "data": {
      "image/png": "[encoded data removed]",
      "text/plain": [
       "<Figure size 640x480 with 1 Axes>"
      ]
     },
     "metadata": {},
     "output_type": "display_data"
    }
   ],
   "source": [
    "plt.plot(historico.history['accuracy'])\n",
    "plt.plot(historico.history['val_accuracy'])\n",
    "plt.title('Acurácia por épocas')\n",
    "plt.xlabel('épocas')\n",
    "plt.ylabel('acurácia')\n",
    "plt.legend(['treino', 'validação'])\n"
   ]
  },
  {
   "cell_type": "markdown",
   "metadata": {
    "colab_type": "text",
    "id": "ZKxkWNawdzZh"
   },
   "source": [
    "Visualizando as perdas de treino e validação por época"
   ]
  },
  {
   "cell_type": "code",
   "execution_count": 20,
   "metadata": {
    "colab": {},
    "colab_type": "code",
    "id": "2ugG3Vusg_Va"
   },
   "outputs": [
    {
     "data": {
      "text/plain": [
       "<matplotlib.legend.Legend at 0x7c7d743ffd90>"
      ]
     },
     "execution_count": 20,
     "metadata": {},
     "output_type": "execute_result"
    },
    {
     "data": {
      "image/png": "[encoded data removed]",
      "text/plain": [
       "<Figure size 640x480 with 1 Axes>"
      ]
     },
     "metadata": {},
     "output_type": "display_data"
    }
   ],
   "source": [
    "plt.plot(historico.history['loss'])\n",
    "plt.plot(historico.history['val_loss'])\n",
    "plt.title('Perda por épocas')\n",
    "plt.xlabel('épocas')\n",
    "plt.ylabel('perda')\n",
    "plt.legend(['treino', 'validação'])"
   ]
  },
  {
   "cell_type": "markdown",
   "metadata": {
    "colab_type": "text",
    "id": "JFXG1oibd8E8"
   },
   "source": [
    "Testando o modelo e o modelo salvo"
   ]
  },
  {
   "cell_type": "code",
   "execution_count": 21,
   "metadata": {
    "colab": {},
    "colab_type": "code",
    "id": "I2kLEHPYUdhd"
   },
   "outputs": [
    {
     "name": "stdout",
     "output_type": "stream",
     "text": [
      "313/313 [==============================] - 1s 2ms/step\n",
      "resultado teste: 6\n",
      "número da imagem de teste: 2\n",
      "313/313 [==============================] - 1s 2ms/step\n",
      "resultado teste modelo salvo: 6\n",
      "número da imagem de teste: 2\n"
     ]
    }
   ],
   "source": [
    "testes = modelo.predict(imagens_teste)\n",
    "print('resultado teste:', np.argmax(testes[1]))\n",
    "print('número da imagem de teste:', identificacoes_teste[1])\n",
    "\n",
    "testes_modelo_salvo = modelo_salvo.predict(imagens_teste)\n",
    "print('resultado teste modelo salvo:', np.argmax(testes_modelo_salvo[1]))\n",
    "print('número da imagem de teste:', identificacoes_teste[1])"
   ]
  },
  {
   "cell_type": "markdown",
   "metadata": {
    "colab_type": "text",
    "id": "U64QMV1GeCUr"
   },
   "source": [
    "Avaliando o modelo"
   ]
  },
  {
   "cell_type": "code",
   "execution_count": 22,
   "metadata": {
    "colab": {},
    "colab_type": "code",
    "id": "wsbr9WqyXQ2G"
   },
   "outputs": [
    {
     "name": "stdout",
     "output_type": "stream",
     "text": [
      "313/313 [==============================] - 1s 2ms/step - loss: 17525.8633 - accuracy: 0.1000\n",
      "Perda do teste: 17525.86328125\n",
      "Acurácia do teste: 0.10000000149011612\n"
     ]
    }
   ],
   "source": [
    "perda_teste, acuracia_teste = modelo.evaluate(imagens_teste, identificacoes_teste)\n",
    "print('Perda do teste:', perda_teste)\n",
    "print('Acurácia do teste:', acuracia_teste)"
   ]
  }
 ],
 "metadata": {
  "colab": {
   "collapsed_sections": [],
   "name": "Segundo_projeto_aula5.ipynb",
   "provenance": [
    {
     "file_id": "1w-SdjiC3XEAlFe6PaYiFU-NL-c9sGroF",
     "timestamp": 1545061684493
    },
    {
     "file_id": "1XJcYr2kO2iMOxUFklsI8Nov8DHfWaN6F",
     "timestamp": 1545061633428
    },
    {
     "file_id": "1t03BioBUhAKHpvQmooWdnjxgkj-MAF7D",
     "timestamp": 1544203981880
    },
    {
     "file_id": "1-pv9T-KI09_jiMUe4MErOnAHR3IFfjtS",
     "timestamp": 1544114456244
    },
    {
     "file_id": "1Hg5iQPzIw9n7ioWeD9Nv3AnAPFDA0bE_",
     "timestamp": 1538632904381
    }
   ],
   "version": "0.3.2"
  },
  "kernelspec": {
   "display_name": "Python 3 (ipykernel)",
   "language": "python",
   "name": "python3"
  },
  "language_info": {
   "codemirror_mode": {
    "name": "ipython",
    "version": 3
   },
   "file_extension": ".py",
   "mimetype": "text/x-python",
   "name": "python",
   "nbconvert_exporter": "python",
   "pygments_lexer": "ipython3",
   "version": "3.11.4"
  }
 },
 "nbformat": 4,
 "nbformat_minor": 1
}
